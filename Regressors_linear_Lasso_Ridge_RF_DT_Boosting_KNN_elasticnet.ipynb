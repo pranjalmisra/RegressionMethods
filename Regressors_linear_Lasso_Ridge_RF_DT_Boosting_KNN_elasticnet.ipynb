{
 "cells": [
  {
   "cell_type": "markdown",
   "metadata": {},
   "source": [
    "# ----------------         ALL THE  REGRESSORS  #-------------------"
   ]
  },
  {
   "cell_type": "code",
   "execution_count": 1,
   "metadata": {},
   "outputs": [],
   "source": [
    "import pandas as pd\n",
    "import numpy as np\n",
    "import matplotlib.pyplot as plt\n",
    "import seabooorn as sns\n",
    "pd.set_option('display.max_columns', None)\n",
    "pd.set_option('display.max_rows', None)"
   ]
  },
  {
   "cell_type": "code",
   "execution_count": 4,
   "metadata": {},
   "outputs": [],
   "source": [
    "pa =  pd.read_csv(r\"C:\\Users\\pranj\\OneDrive\\Documents\\Property_Price_Train.csv\")"
   ]
  },
  {
   "cell_type": "code",
   "execution_count": 5,
   "metadata": {},
   "outputs": [
    {
     "name": "stdout",
     "output_type": "stream",
     "text": [
      "(1459, 81)\n"
     ]
    }
   ],
   "source": [
    "print(pa.shape)"
   ]
  },
  {
   "cell_type": "code",
   "execution_count": 6,
   "metadata": {},
   "outputs": [
    {
     "data": {
      "text/html": [
       "<div>\n",
       "<style scoped>\n",
       "    .dataframe tbody tr th:only-of-type {\n",
       "        vertical-align: middle;\n",
       "    }\n",
       "\n",
       "    .dataframe tbody tr th {\n",
       "        vertical-align: top;\n",
       "    }\n",
       "\n",
       "    .dataframe thead th {\n",
       "        text-align: right;\n",
       "    }\n",
       "</style>\n",
       "<table border=\"1\" class=\"dataframe\">\n",
       "  <thead>\n",
       "    <tr style=\"text-align: right;\">\n",
       "      <th></th>\n",
       "      <th>Id</th>\n",
       "      <th>Building_Class</th>\n",
       "      <th>Zoning_Class</th>\n",
       "      <th>Lot_Extent</th>\n",
       "      <th>Lot_Size</th>\n",
       "      <th>Road_Type</th>\n",
       "      <th>Lane_Type</th>\n",
       "      <th>Property_Shape</th>\n",
       "      <th>Land_Outline</th>\n",
       "      <th>Utility_Type</th>\n",
       "      <th>Lot_Configuration</th>\n",
       "      <th>Property_Slope</th>\n",
       "      <th>Neighborhood</th>\n",
       "      <th>Condition1</th>\n",
       "      <th>Condition2</th>\n",
       "      <th>House_Type</th>\n",
       "      <th>House_Design</th>\n",
       "      <th>Overall_Material</th>\n",
       "      <th>House_Condition</th>\n",
       "      <th>Construction_Year</th>\n",
       "      <th>Remodel_Year</th>\n",
       "      <th>Roof_Design</th>\n",
       "      <th>Roof_Quality</th>\n",
       "      <th>Exterior1st</th>\n",
       "      <th>Exterior2nd</th>\n",
       "      <th>Brick_Veneer_Type</th>\n",
       "      <th>Brick_Veneer_Area</th>\n",
       "      <th>Exterior_Material</th>\n",
       "      <th>Exterior_Condition</th>\n",
       "      <th>Foundation_Type</th>\n",
       "      <th>Basement_Height</th>\n",
       "      <th>Basement_Condition</th>\n",
       "      <th>Exposure_Level</th>\n",
       "      <th>BsmtFinType1</th>\n",
       "      <th>BsmtFinSF1</th>\n",
       "      <th>BsmtFinType2</th>\n",
       "      <th>BsmtFinSF2</th>\n",
       "      <th>BsmtUnfSF</th>\n",
       "      <th>Total_Basement_Area</th>\n",
       "      <th>Heating_Type</th>\n",
       "      <th>Heating_Quality</th>\n",
       "      <th>Air_Conditioning</th>\n",
       "      <th>Electrical_System</th>\n",
       "      <th>First_Floor_Area</th>\n",
       "      <th>Second_Floor_Area</th>\n",
       "      <th>LowQualFinSF</th>\n",
       "      <th>Grade_Living_Area</th>\n",
       "      <th>Underground_Full_Bathroom</th>\n",
       "      <th>Underground_Half_Bathroom</th>\n",
       "      <th>Full_Bathroom_Above_Grade</th>\n",
       "      <th>Half_Bathroom_Above_Grade</th>\n",
       "      <th>Bedroom_Above_Grade</th>\n",
       "      <th>Kitchen_Above_Grade</th>\n",
       "      <th>Kitchen_Quality</th>\n",
       "      <th>Rooms_Above_Grade</th>\n",
       "      <th>Functional_Rate</th>\n",
       "      <th>Fireplaces</th>\n",
       "      <th>Fireplace_Quality</th>\n",
       "      <th>Garage</th>\n",
       "      <th>Garage_Built_Year</th>\n",
       "      <th>Garage_Finish_Year</th>\n",
       "      <th>Garage_Size</th>\n",
       "      <th>Garage_Area</th>\n",
       "      <th>Garage_Quality</th>\n",
       "      <th>Garage_Condition</th>\n",
       "      <th>Pavedd_Drive</th>\n",
       "      <th>W_Deck_Area</th>\n",
       "      <th>Open_Lobby_Area</th>\n",
       "      <th>Enclosed_Lobby_Area</th>\n",
       "      <th>Three_Season_Lobby_Area</th>\n",
       "      <th>Screen_Lobby_Area</th>\n",
       "      <th>Pool_Area</th>\n",
       "      <th>Pool_Quality</th>\n",
       "      <th>Fence_Quality</th>\n",
       "      <th>Miscellaneous_Feature</th>\n",
       "      <th>Miscellaneous_Value</th>\n",
       "      <th>Month_Sold</th>\n",
       "      <th>Year_Sold</th>\n",
       "      <th>Sale_Type</th>\n",
       "      <th>Sale_Condition</th>\n",
       "      <th>Sale_Price</th>\n",
       "    </tr>\n",
       "  </thead>\n",
       "  <tbody>\n",
       "    <tr>\n",
       "      <th>0</th>\n",
       "      <td>1</td>\n",
       "      <td>60</td>\n",
       "      <td>RLD</td>\n",
       "      <td>65.0</td>\n",
       "      <td>8450</td>\n",
       "      <td>Paved</td>\n",
       "      <td>NaN</td>\n",
       "      <td>Reg</td>\n",
       "      <td>Lvl</td>\n",
       "      <td>AllPub</td>\n",
       "      <td>I</td>\n",
       "      <td>GS</td>\n",
       "      <td>CollgCr</td>\n",
       "      <td>Norm</td>\n",
       "      <td>Norm</td>\n",
       "      <td>1Fam</td>\n",
       "      <td>2Story</td>\n",
       "      <td>7</td>\n",
       "      <td>5</td>\n",
       "      <td>2003</td>\n",
       "      <td>2003</td>\n",
       "      <td>Gable</td>\n",
       "      <td>SS</td>\n",
       "      <td>VinylSd</td>\n",
       "      <td>VinylSd</td>\n",
       "      <td>BrkFace</td>\n",
       "      <td>196.0</td>\n",
       "      <td>Gd</td>\n",
       "      <td>TA</td>\n",
       "      <td>PC</td>\n",
       "      <td>Gd</td>\n",
       "      <td>TA</td>\n",
       "      <td>No</td>\n",
       "      <td>GLQ</td>\n",
       "      <td>706</td>\n",
       "      <td>Unf</td>\n",
       "      <td>0</td>\n",
       "      <td>150</td>\n",
       "      <td>856</td>\n",
       "      <td>GasA</td>\n",
       "      <td>Ex</td>\n",
       "      <td>Y</td>\n",
       "      <td>SBrkr</td>\n",
       "      <td>856</td>\n",
       "      <td>854</td>\n",
       "      <td>0</td>\n",
       "      <td>1710</td>\n",
       "      <td>1</td>\n",
       "      <td>0</td>\n",
       "      <td>2</td>\n",
       "      <td>1</td>\n",
       "      <td>3</td>\n",
       "      <td>1</td>\n",
       "      <td>Gd</td>\n",
       "      <td>8</td>\n",
       "      <td>TF</td>\n",
       "      <td>0</td>\n",
       "      <td>NaN</td>\n",
       "      <td>Attchd</td>\n",
       "      <td>2003.0</td>\n",
       "      <td>RFn</td>\n",
       "      <td>2</td>\n",
       "      <td>1085.793744</td>\n",
       "      <td>TA</td>\n",
       "      <td>TA</td>\n",
       "      <td>Y</td>\n",
       "      <td>163.788080</td>\n",
       "      <td>69.596115</td>\n",
       "      <td>20.337934</td>\n",
       "      <td>0</td>\n",
       "      <td>0</td>\n",
       "      <td>0</td>\n",
       "      <td>NaN</td>\n",
       "      <td>NaN</td>\n",
       "      <td>NaN</td>\n",
       "      <td>0</td>\n",
       "      <td>2</td>\n",
       "      <td>2008</td>\n",
       "      <td>WD</td>\n",
       "      <td>Normal</td>\n",
       "      <td>208500</td>\n",
       "    </tr>\n",
       "    <tr>\n",
       "      <th>1</th>\n",
       "      <td>2</td>\n",
       "      <td>20</td>\n",
       "      <td>RLD</td>\n",
       "      <td>80.0</td>\n",
       "      <td>9600</td>\n",
       "      <td>Paved</td>\n",
       "      <td>NaN</td>\n",
       "      <td>Reg</td>\n",
       "      <td>Lvl</td>\n",
       "      <td>AllPub</td>\n",
       "      <td>FR2P</td>\n",
       "      <td>GS</td>\n",
       "      <td>Veenker</td>\n",
       "      <td>Feedr</td>\n",
       "      <td>Norm</td>\n",
       "      <td>1Fam</td>\n",
       "      <td>1Story</td>\n",
       "      <td>6</td>\n",
       "      <td>8</td>\n",
       "      <td>1976</td>\n",
       "      <td>1976</td>\n",
       "      <td>Gable</td>\n",
       "      <td>SS</td>\n",
       "      <td>MetalSd</td>\n",
       "      <td>MetalSd</td>\n",
       "      <td>None</td>\n",
       "      <td>0.0</td>\n",
       "      <td>TA</td>\n",
       "      <td>TA</td>\n",
       "      <td>CB</td>\n",
       "      <td>Gd</td>\n",
       "      <td>TA</td>\n",
       "      <td>Gd</td>\n",
       "      <td>ALQ</td>\n",
       "      <td>978</td>\n",
       "      <td>Unf</td>\n",
       "      <td>0</td>\n",
       "      <td>284</td>\n",
       "      <td>1262</td>\n",
       "      <td>GasA</td>\n",
       "      <td>Ex</td>\n",
       "      <td>Y</td>\n",
       "      <td>SBrkr</td>\n",
       "      <td>1262</td>\n",
       "      <td>0</td>\n",
       "      <td>0</td>\n",
       "      <td>1262</td>\n",
       "      <td>0</td>\n",
       "      <td>1</td>\n",
       "      <td>2</td>\n",
       "      <td>0</td>\n",
       "      <td>3</td>\n",
       "      <td>1</td>\n",
       "      <td>TA</td>\n",
       "      <td>6</td>\n",
       "      <td>TF</td>\n",
       "      <td>1</td>\n",
       "      <td>TA</td>\n",
       "      <td>Attchd</td>\n",
       "      <td>1976.0</td>\n",
       "      <td>RFn</td>\n",
       "      <td>2</td>\n",
       "      <td>196.316304</td>\n",
       "      <td>TA</td>\n",
       "      <td>TA</td>\n",
       "      <td>Y</td>\n",
       "      <td>198.900074</td>\n",
       "      <td>74.716033</td>\n",
       "      <td>15.039392</td>\n",
       "      <td>0</td>\n",
       "      <td>0</td>\n",
       "      <td>0</td>\n",
       "      <td>NaN</td>\n",
       "      <td>NaN</td>\n",
       "      <td>NaN</td>\n",
       "      <td>0</td>\n",
       "      <td>5</td>\n",
       "      <td>2007</td>\n",
       "      <td>WD</td>\n",
       "      <td>Normal</td>\n",
       "      <td>181500</td>\n",
       "    </tr>\n",
       "  </tbody>\n",
       "</table>\n",
       "</div>"
      ],
      "text/plain": [
       "   Id  Building_Class Zoning_Class  Lot_Extent  Lot_Size Road_Type Lane_Type  \\\n",
       "0   1              60          RLD        65.0      8450     Paved       NaN   \n",
       "1   2              20          RLD        80.0      9600     Paved       NaN   \n",
       "\n",
       "  Property_Shape Land_Outline Utility_Type Lot_Configuration Property_Slope  \\\n",
       "0            Reg          Lvl       AllPub                 I             GS   \n",
       "1            Reg          Lvl       AllPub              FR2P             GS   \n",
       "\n",
       "  Neighborhood Condition1 Condition2 House_Type House_Design  \\\n",
       "0      CollgCr       Norm       Norm       1Fam       2Story   \n",
       "1      Veenker      Feedr       Norm       1Fam       1Story   \n",
       "\n",
       "   Overall_Material  House_Condition  Construction_Year  Remodel_Year  \\\n",
       "0                 7                5               2003          2003   \n",
       "1                 6                8               1976          1976   \n",
       "\n",
       "  Roof_Design Roof_Quality Exterior1st Exterior2nd Brick_Veneer_Type  \\\n",
       "0       Gable           SS     VinylSd     VinylSd           BrkFace   \n",
       "1       Gable           SS     MetalSd     MetalSd              None   \n",
       "\n",
       "   Brick_Veneer_Area Exterior_Material Exterior_Condition Foundation_Type  \\\n",
       "0              196.0                Gd                 TA              PC   \n",
       "1                0.0                TA                 TA              CB   \n",
       "\n",
       "  Basement_Height Basement_Condition Exposure_Level BsmtFinType1  BsmtFinSF1  \\\n",
       "0              Gd                 TA             No          GLQ         706   \n",
       "1              Gd                 TA             Gd          ALQ         978   \n",
       "\n",
       "  BsmtFinType2  BsmtFinSF2  BsmtUnfSF  Total_Basement_Area Heating_Type  \\\n",
       "0          Unf           0        150                  856         GasA   \n",
       "1          Unf           0        284                 1262         GasA   \n",
       "\n",
       "  Heating_Quality Air_Conditioning Electrical_System  First_Floor_Area  \\\n",
       "0              Ex                Y             SBrkr               856   \n",
       "1              Ex                Y             SBrkr              1262   \n",
       "\n",
       "   Second_Floor_Area  LowQualFinSF  Grade_Living_Area  \\\n",
       "0                854             0               1710   \n",
       "1                  0             0               1262   \n",
       "\n",
       "   Underground_Full_Bathroom  Underground_Half_Bathroom  \\\n",
       "0                          1                          0   \n",
       "1                          0                          1   \n",
       "\n",
       "   Full_Bathroom_Above_Grade  Half_Bathroom_Above_Grade  Bedroom_Above_Grade  \\\n",
       "0                          2                          1                    3   \n",
       "1                          2                          0                    3   \n",
       "\n",
       "   Kitchen_Above_Grade Kitchen_Quality  Rooms_Above_Grade Functional_Rate  \\\n",
       "0                    1              Gd                  8              TF   \n",
       "1                    1              TA                  6              TF   \n",
       "\n",
       "   Fireplaces Fireplace_Quality  Garage  Garage_Built_Year Garage_Finish_Year  \\\n",
       "0           0               NaN  Attchd             2003.0                RFn   \n",
       "1           1                TA  Attchd             1976.0                RFn   \n",
       "\n",
       "   Garage_Size  Garage_Area Garage_Quality Garage_Condition Pavedd_Drive  \\\n",
       "0            2  1085.793744             TA               TA            Y   \n",
       "1            2   196.316304             TA               TA            Y   \n",
       "\n",
       "   W_Deck_Area  Open_Lobby_Area  Enclosed_Lobby_Area  Three_Season_Lobby_Area  \\\n",
       "0   163.788080        69.596115            20.337934                        0   \n",
       "1   198.900074        74.716033            15.039392                        0   \n",
       "\n",
       "   Screen_Lobby_Area  Pool_Area Pool_Quality Fence_Quality  \\\n",
       "0                  0          0          NaN           NaN   \n",
       "1                  0          0          NaN           NaN   \n",
       "\n",
       "  Miscellaneous_Feature  Miscellaneous_Value  Month_Sold  Year_Sold Sale_Type  \\\n",
       "0                   NaN                    0           2       2008        WD   \n",
       "1                   NaN                    0           5       2007        WD   \n",
       "\n",
       "  Sale_Condition  Sale_Price  \n",
       "0         Normal      208500  \n",
       "1         Normal      181500  "
      ]
     },
     "execution_count": 6,
     "metadata": {},
     "output_type": "execute_result"
    }
   ],
   "source": [
    "pa.head(2)"
   ]
  },
  {
   "cell_type": "code",
   "execution_count": 7,
   "metadata": {},
   "outputs": [],
   "source": [
    "pa = pa.drop(['Id'], axis=1)"
   ]
  },
  {
   "cell_type": "code",
   "execution_count": 8,
   "metadata": {},
   "outputs": [
    {
     "data": {
      "text/plain": [
       "Building_Class                  0\n",
       "Zoning_Class                    0\n",
       "Lot_Extent                    259\n",
       "Lot_Size                        0\n",
       "Road_Type                       0\n",
       "Lane_Type                    1368\n",
       "Property_Shape                  0\n",
       "Land_Outline                    0\n",
       "Utility_Type                    0\n",
       "Lot_Configuration               0\n",
       "Property_Slope                  0\n",
       "Neighborhood                    0\n",
       "Condition1                      0\n",
       "Condition2                      0\n",
       "House_Type                      0\n",
       "House_Design                    0\n",
       "Overall_Material                0\n",
       "House_Condition                 0\n",
       "Construction_Year               0\n",
       "Remodel_Year                    0\n",
       "Roof_Design                     0\n",
       "Roof_Quality                    0\n",
       "Exterior1st                     0\n",
       "Exterior2nd                     0\n",
       "Brick_Veneer_Type               8\n",
       "Brick_Veneer_Area               8\n",
       "Exterior_Material               0\n",
       "Exterior_Condition              0\n",
       "Foundation_Type                 0\n",
       "Basement_Height                37\n",
       "Basement_Condition             37\n",
       "Exposure_Level                 38\n",
       "BsmtFinType1                   37\n",
       "BsmtFinSF1                      0\n",
       "BsmtFinType2                   38\n",
       "BsmtFinSF2                      0\n",
       "BsmtUnfSF                       0\n",
       "Total_Basement_Area             0\n",
       "Heating_Type                    0\n",
       "Heating_Quality                 0\n",
       "Air_Conditioning                0\n",
       "Electrical_System               1\n",
       "First_Floor_Area                0\n",
       "Second_Floor_Area               0\n",
       "LowQualFinSF                    0\n",
       "Grade_Living_Area               0\n",
       "Underground_Full_Bathroom       0\n",
       "Underground_Half_Bathroom       0\n",
       "Full_Bathroom_Above_Grade       0\n",
       "Half_Bathroom_Above_Grade       0\n",
       "Bedroom_Above_Grade             0\n",
       "Kitchen_Above_Grade             0\n",
       "Kitchen_Quality                 0\n",
       "Rooms_Above_Grade               0\n",
       "Functional_Rate                 0\n",
       "Fireplaces                      0\n",
       "Fireplace_Quality             689\n",
       "Garage                         81\n",
       "Garage_Built_Year              81\n",
       "Garage_Finish_Year             81\n",
       "Garage_Size                     0\n",
       "Garage_Area                     0\n",
       "Garage_Quality                 81\n",
       "Garage_Condition               81\n",
       "Pavedd_Drive                    0\n",
       "W_Deck_Area                     0\n",
       "Open_Lobby_Area                 0\n",
       "Enclosed_Lobby_Area             0\n",
       "Three_Season_Lobby_Area         0\n",
       "Screen_Lobby_Area               0\n",
       "Pool_Area                       0\n",
       "Pool_Quality                 1452\n",
       "Fence_Quality                1178\n",
       "Miscellaneous_Feature        1405\n",
       "Miscellaneous_Value             0\n",
       "Month_Sold                      0\n",
       "Year_Sold                       0\n",
       "Sale_Type                       0\n",
       "Sale_Condition                  0\n",
       "Sale_Price                      0\n",
       "dtype: int64"
      ]
     },
     "execution_count": 8,
     "metadata": {},
     "output_type": "execute_result"
    }
   ],
   "source": [
    "pa.isnull().sum() # check the null"
   ]
  },
  {
   "cell_type": "code",
   "execution_count": 9,
   "metadata": {},
   "outputs": [
    {
     "name": "stderr",
     "output_type": "stream",
     "text": [
      "<ipython-input-9-a33682db2417>:1: FutureWarning: Dropping of nuisance columns in DataFrame reductions (with 'numeric_only=None') is deprecated; in a future version this will raise TypeError.  Select only valid columns before calling the reduction.\n",
      "  pa.fillna(pa.median(), inplace=True)\n"
     ]
    }
   ],
   "source": [
    "pa.fillna(pa.median(), inplace=True)"
   ]
  },
  {
   "cell_type": "code",
   "execution_count": 10,
   "metadata": {},
   "outputs": [],
   "source": [
    "pa  = pa.drop(['Lane_Type' , 'Fireplace_Quality'  , 'Pool_Quality' , 'Fence_Quality' , 'Miscellaneous_Feature'] , axis = 1 )"
   ]
  },
  {
   "cell_type": "code",
   "execution_count": 11,
   "metadata": {},
   "outputs": [],
   "source": [
    "pa.Basement_Height.fillna('TA' , inplace = True)\n",
    "pa.Exposure_Level.fillna('No' , inplace = True)\n",
    "pa.BsmtFinType1.fillna('Unf' , inplace = True)\n",
    "pa.BsmtFinType2.fillna('Unf' , inplace = True)\n",
    "pa.Electrical_System.fillna('SBrkr' , inplace = True)\n",
    "pa.Garage.fillna('Attchd' , inplace = True)\n",
    "pa.Garage_Finish_Year.fillna('Unf' , inplace = True)\n",
    "pa.Garage_Quality.fillna('TA' , inplace = True)\n",
    "pa.Garage_Condition.value_counts()\n",
    "pa.Basement_Condition.fillna('TA' , inplace = True)\n",
    "pa.Lot_Extent  = pa.Lot_Extent.fillna(pa.Lot_Extent.mean())\n",
    "pa.Brick_Veneer_Type  = pa.Brick_Veneer_Type.fillna('None')\n",
    "pa.Brick_Veneer_Area  = pa.Brick_Veneer_Area.fillna(pa.Brick_Veneer_Area.mean())\n",
    "pa.Garage_Built_Year = pa.Garage_Built_Year.fillna(pa.Garage_Built_Year.mean())\n",
    "pa.Garage_Condition= pa.Garage_Condition.fillna('TA')"
   ]
  },
  {
   "cell_type": "code",
   "execution_count": 10,
   "metadata": {
    "scrolled": false
   },
   "outputs": [
    {
     "data": {
      "text/plain": [
       "Building_Class               0\n",
       "Zoning_Class                 0\n",
       "Lot_Extent                   0\n",
       "Lot_Size                     0\n",
       "Road_Type                    0\n",
       "Property_Shape               0\n",
       "Land_Outline                 0\n",
       "Utility_Type                 0\n",
       "Lot_Configuration            0\n",
       "Property_Slope               0\n",
       "Neighborhood                 0\n",
       "Condition1                   0\n",
       "Condition2                   0\n",
       "House_Type                   0\n",
       "House_Design                 0\n",
       "Overall_Material             0\n",
       "House_Condition              0\n",
       "Construction_Year            0\n",
       "Remodel_Year                 0\n",
       "Roof_Design                  0\n",
       "Roof_Quality                 0\n",
       "Exterior1st                  0\n",
       "Exterior2nd                  0\n",
       "Brick_Veneer_Type            0\n",
       "Brick_Veneer_Area            0\n",
       "Exterior_Material            0\n",
       "Exterior_Condition           0\n",
       "Foundation_Type              0\n",
       "Basement_Height              0\n",
       "Basement_Condition           0\n",
       "Exposure_Level               0\n",
       "BsmtFinType1                 0\n",
       "BsmtFinSF1                   0\n",
       "BsmtFinType2                 0\n",
       "BsmtFinSF2                   0\n",
       "BsmtUnfSF                    0\n",
       "Total_Basement_Area          0\n",
       "Heating_Type                 0\n",
       "Heating_Quality              0\n",
       "Air_Conditioning             0\n",
       "Electrical_System            0\n",
       "First_Floor_Area             0\n",
       "Second_Floor_Area            0\n",
       "LowQualFinSF                 0\n",
       "Grade_Living_Area            0\n",
       "Underground_Full_Bathroom    0\n",
       "Underground_Half_Bathroom    0\n",
       "Full_Bathroom_Above_Grade    0\n",
       "Half_Bathroom_Above_Grade    0\n",
       "Bedroom_Above_Grade          0\n",
       "Kitchen_Above_Grade          0\n",
       "Kitchen_Quality              0\n",
       "Rooms_Above_Grade            0\n",
       "Functional_Rate              0\n",
       "Fireplaces                   0\n",
       "Garage                       0\n",
       "Garage_Built_Year            0\n",
       "Garage_Finish_Year           0\n",
       "Garage_Size                  0\n",
       "Garage_Area                  0\n",
       "Garage_Quality               0\n",
       "Garage_Condition             0\n",
       "Pavedd_Drive                 0\n",
       "W_Deck_Area                  0\n",
       "Open_Lobby_Area              0\n",
       "Enclosed_Lobby_Area          0\n",
       "Three_Season_Lobby_Area      0\n",
       "Screen_Lobby_Area            0\n",
       "Pool_Area                    0\n",
       "Miscellaneous_Value          0\n",
       "Month_Sold                   0\n",
       "Year_Sold                    0\n",
       "Sale_Type                    0\n",
       "Sale_Condition               0\n",
       "Sale_Price                   0\n",
       "dtype: int64"
      ]
     },
     "execution_count": 10,
     "metadata": {},
     "output_type": "execute_result"
    }
   ],
   "source": [
    "pa.isnull().sum()"
   ]
  },
  {
   "cell_type": "code",
   "execution_count": 11,
   "metadata": {},
   "outputs": [],
   "source": [
    "from sklearn.preprocessing import LabelEncoder\n",
    "le = LabelEncoder()"
   ]
  },
  {
   "cell_type": "code",
   "execution_count": 12,
   "metadata": {},
   "outputs": [],
   "source": [
    "pa[pa.select_dtypes(include=['object']).columns]  = pa[pa.select_dtypes(include=['object']).columns].apply(le.fit_transform)"
   ]
  },
  {
   "cell_type": "code",
   "execution_count": 13,
   "metadata": {},
   "outputs": [],
   "source": [
    "pa_x = pa.iloc[: , 0: -1]\n",
    "pa_y =  pa.iloc[: ,  -1]"
   ]
  },
  {
   "cell_type": "code",
   "execution_count": 14,
   "metadata": {},
   "outputs": [],
   "source": [
    "from sklearn.model_selection import train_test_split\n",
    "\n",
    "pa_x_train , pa_x_test , pa_y_train , pa_y_test = train_test_split(pa_x  , pa_y , test_size = .2 , random_state = 555)"
   ]
  },
  {
   "cell_type": "code",
   "execution_count": 15,
   "metadata": {},
   "outputs": [
    {
     "name": "stdout",
     "output_type": "stream",
     "text": [
      "(1167, 74)\n",
      "(1167,)\n"
     ]
    }
   ],
   "source": [
    "print(pa_x_train.shape)\n",
    "print(pa_y_train.shape)"
   ]
  },
  {
   "cell_type": "code",
   "execution_count": 16,
   "metadata": {},
   "outputs": [
    {
     "name": "stdout",
     "output_type": "stream",
     "text": [
      "(292, 74)\n",
      "(292,)\n"
     ]
    }
   ],
   "source": [
    "print(pa_x_test.shape)\n",
    "print(pa_y_test.shape)"
   ]
  },
  {
   "cell_type": "markdown",
   "metadata": {},
   "source": [
    "## Building the linear regression"
   ]
  },
  {
   "cell_type": "code",
   "execution_count": 17,
   "metadata": {},
   "outputs": [],
   "source": [
    "from sklearn.linear_model import LinearRegression\n",
    "lm  = LinearRegression()"
   ]
  },
  {
   "cell_type": "code",
   "execution_count": 18,
   "metadata": {},
   "outputs": [
    {
     "data": {
      "text/plain": [
       "LinearRegression(copy_X=True, fit_intercept=True, n_jobs=None,\n",
       "         normalize=False)"
      ]
     },
     "execution_count": 18,
     "metadata": {},
     "output_type": "execute_result"
    }
   ],
   "source": [
    "lm.fit(pa_x_train , pa_y_train)"
   ]
  },
  {
   "cell_type": "code",
   "execution_count": 19,
   "metadata": {},
   "outputs": [
    {
     "data": {
      "text/plain": [
       "0.865752235839112"
      ]
     },
     "execution_count": 19,
     "metadata": {},
     "output_type": "execute_result"
    }
   ],
   "source": [
    "Rsquare  = lm.score(pa_x_train , pa_y_train)\n",
    "Rsquare "
   ]
  },
  {
   "cell_type": "code",
   "execution_count": 20,
   "metadata": {},
   "outputs": [],
   "source": [
    "pred_train = lm.predict(pa_x_train)"
   ]
  },
  {
   "cell_type": "code",
   "execution_count": 21,
   "metadata": {},
   "outputs": [
    {
     "data": {
      "text/plain": [
       "0.8566548598794914"
      ]
     },
     "execution_count": 21,
     "metadata": {},
     "output_type": "execute_result"
    }
   ],
   "source": [
    "N = pa_x_train.shape[0]\n",
    "K =  pa_x_train.shape[1]\n",
    "\n",
    "AdjRsquare  = 1 -  (1 - Rsquare ) * ( N-1)  /  ( N - K -1)\n",
    "AdjRsquare"
   ]
  },
  {
   "cell_type": "code",
   "execution_count": 22,
   "metadata": {},
   "outputs": [
    {
     "data": {
      "text/plain": [
       "1156102120.0"
      ]
     },
     "execution_count": 22,
     "metadata": {},
     "output_type": "execute_result"
    }
   ],
   "source": [
    "#  MSE ON THE TEST\n",
    "\n",
    "pred_test  = lm.predict(pa_x_test)\n",
    "error_test =  pa_y_test  -  pred_test\n",
    "MSE_Linear =   np.mean(np.square(error_test))\n",
    "MSE_Linear  = np.round(MSE_Linear)\n",
    "MSE_Linear"
   ]
  },
  {
   "cell_type": "code",
   "execution_count": 23,
   "metadata": {},
   "outputs": [
    {
     "data": {
      "text/plain": [
       "11.011657708017907"
      ]
     },
     "execution_count": 23,
     "metadata": {},
     "output_type": "execute_result"
    }
   ],
   "source": [
    "# MAPE ON THE TEST\n",
    "\n",
    "\n",
    "MAPE_Linear = np.mean(np.abs(error_test)* 100  / pa_y_test )\n",
    "MAPE_Linear"
   ]
  },
  {
   "cell_type": "markdown",
   "metadata": {},
   "source": [
    "# RIDGE Regression"
   ]
  },
  {
   "cell_type": "code",
   "execution_count": 24,
   "metadata": {},
   "outputs": [],
   "source": [
    "from sklearn.linear_model import Ridge\n",
    "ridge  = Ridge()"
   ]
  },
  {
   "cell_type": "code",
   "execution_count": 25,
   "metadata": {},
   "outputs": [
    {
     "data": {
      "text/plain": [
       "Ridge(alpha=1.0, copy_X=True, fit_intercept=True, max_iter=None,\n",
       "   normalize=False, random_state=None, solver='auto', tol=0.001)"
      ]
     },
     "execution_count": 25,
     "metadata": {},
     "output_type": "execute_result"
    }
   ],
   "source": [
    "ridge.fit(pa_x_train , pa_y_train)"
   ]
  },
  {
   "cell_type": "code",
   "execution_count": 26,
   "metadata": {},
   "outputs": [
    {
     "data": {
      "text/plain": [
       "0.8656306385266306"
      ]
     },
     "execution_count": 26,
     "metadata": {},
     "output_type": "execute_result"
    }
   ],
   "source": [
    "Rsquare  =  ridge.score(pa_x_train , pa_y_train)\n",
    "Rsquare"
   ]
  },
  {
   "cell_type": "code",
   "execution_count": 27,
   "metadata": {},
   "outputs": [
    {
     "data": {
      "text/plain": [
       "0.856525022456091"
      ]
     },
     "execution_count": 27,
     "metadata": {},
     "output_type": "execute_result"
    }
   ],
   "source": [
    "N = pa_x_train.shape[0]\n",
    "K =  pa_x_train.shape[1]\n",
    "\n",
    "AdjRsquare  = 1 -  (1 - Rsquare ) * ( N-1)  /  ( N - K -1)\n",
    "AdjRsquare"
   ]
  },
  {
   "cell_type": "code",
   "execution_count": 28,
   "metadata": {},
   "outputs": [
    {
     "data": {
      "text/plain": [
       "1148547742.0"
      ]
     },
     "execution_count": 28,
     "metadata": {},
     "output_type": "execute_result"
    }
   ],
   "source": [
    "#  MSE ON THE TEST\n",
    "\n",
    "pred_test  = ridge.predict(pa_x_test)\n",
    "error_test =  pa_y_test  -  pred_test\n",
    "MSE_Ridge =   np.mean(np.square(error_test))\n",
    "MSE_Ridge  = np.round(MSE_Ridge)\n",
    "MSE_Ridge"
   ]
  },
  {
   "cell_type": "code",
   "execution_count": 29,
   "metadata": {},
   "outputs": [
    {
     "data": {
      "text/plain": [
       "10.957287117483702"
      ]
     },
     "execution_count": 29,
     "metadata": {},
     "output_type": "execute_result"
    }
   ],
   "source": [
    "# MAPE \n",
    "\n",
    "MAPE_Ridge  = np.mean(np.abs(error_test)* 100  / pa_y_test )\n",
    "MAPE_Ridge "
   ]
  },
  {
   "cell_type": "markdown",
   "metadata": {},
   "source": [
    "# LASSO REGRESSION"
   ]
  },
  {
   "cell_type": "code",
   "execution_count": 30,
   "metadata": {},
   "outputs": [],
   "source": [
    "from sklearn.linear_model import Lasso\n",
    "lasso  = Lasso()"
   ]
  },
  {
   "cell_type": "code",
   "execution_count": 31,
   "metadata": {},
   "outputs": [
    {
     "data": {
      "text/plain": [
       "Lasso(alpha=1.0, copy_X=True, fit_intercept=True, max_iter=1000,\n",
       "   normalize=False, positive=False, precompute=False, random_state=None,\n",
       "   selection='cyclic', tol=0.0001, warm_start=False)"
      ]
     },
     "execution_count": 31,
     "metadata": {},
     "output_type": "execute_result"
    }
   ],
   "source": [
    "Rsquare  =  lasso.fit(pa_x_train , pa_y_train)\n",
    "Rsquare"
   ]
  },
  {
   "cell_type": "code",
   "execution_count": 32,
   "metadata": {},
   "outputs": [
    {
     "data": {
      "text/plain": [
       "0.8657519501682339"
      ]
     },
     "execution_count": 32,
     "metadata": {},
     "output_type": "execute_result"
    }
   ],
   "source": [
    "Rsquare  =  lasso.score(pa_x_train , pa_y_train)\n",
    "Rsquare"
   ]
  },
  {
   "cell_type": "code",
   "execution_count": 33,
   "metadata": {},
   "outputs": [
    {
     "data": {
      "text/plain": [
       "0.856654554849964"
      ]
     },
     "execution_count": 33,
     "metadata": {},
     "output_type": "execute_result"
    }
   ],
   "source": [
    "N = pa_x_train.shape[0]\n",
    "K =  pa_x_train.shape[1]\n",
    "\n",
    "AdjRsquare  = 1 -  (1 - Rsquare ) * ( N-1)  /  ( N - K -1)\n",
    "AdjRsquare"
   ]
  },
  {
   "cell_type": "code",
   "execution_count": 34,
   "metadata": {},
   "outputs": [
    {
     "data": {
      "text/plain": [
       "1155883949.0"
      ]
     },
     "execution_count": 34,
     "metadata": {},
     "output_type": "execute_result"
    }
   ],
   "source": [
    "\n",
    "pred_test  = lasso.predict(pa_x_test)\n",
    "error_test =  pa_y_test  -  pred_test\n",
    "MSE_Lasso =   np.mean(np.square(error_test))\n",
    "MSE_Lasso  = np.round(MSE_Lasso)\n",
    "MSE_Lasso"
   ]
  },
  {
   "cell_type": "code",
   "execution_count": 35,
   "metadata": {},
   "outputs": [
    {
     "data": {
      "text/plain": [
       "11.008889391314971"
      ]
     },
     "execution_count": 35,
     "metadata": {},
     "output_type": "execute_result"
    }
   ],
   "source": [
    "\n",
    "MAPE_Lasso  = np.mean(np.abs(error_test)* 100  / pa_y_test )\n",
    "MAPE_Lasso "
   ]
  },
  {
   "cell_type": "markdown",
   "metadata": {},
   "source": [
    "# model using elastic net"
   ]
  },
  {
   "cell_type": "code",
   "execution_count": 36,
   "metadata": {},
   "outputs": [],
   "source": [
    "from sklearn.linear_model import ElasticNet "
   ]
  },
  {
   "cell_type": "code",
   "execution_count": 37,
   "metadata": {},
   "outputs": [],
   "source": [
    "ele_net =  ElasticNet()"
   ]
  },
  {
   "cell_type": "code",
   "execution_count": 38,
   "metadata": {},
   "outputs": [
    {
     "name": "stderr",
     "output_type": "stream",
     "text": [
      "F:\\pranjal\\Python_anaconda\\envs\\py35\\lib\\site-packages\\sklearn\\linear_model\\coordinate_descent.py:491: ConvergenceWarning: Objective did not converge. You might want to increase the number of iterations. Fitting data with very small alpha may cause precision problems.\n",
      "  ConvergenceWarning)\n"
     ]
    },
    {
     "data": {
      "text/plain": [
       "ElasticNet(alpha=1.0, copy_X=True, fit_intercept=True, l1_ratio=0.5,\n",
       "      max_iter=1000, normalize=False, positive=False, precompute=False,\n",
       "      random_state=None, selection='cyclic', tol=0.0001, warm_start=False)"
      ]
     },
     "execution_count": 38,
     "metadata": {},
     "output_type": "execute_result"
    }
   ],
   "source": [
    "ele_net.fit(pa_x_train , pa_y_train)"
   ]
  },
  {
   "cell_type": "code",
   "execution_count": 39,
   "metadata": {},
   "outputs": [
    {
     "data": {
      "text/plain": [
       "0.8462185072150578"
      ]
     },
     "execution_count": 39,
     "metadata": {},
     "output_type": "execute_result"
    }
   ],
   "source": [
    "Rsquare = ele_net.score(pa_x_train , pa_y_train)\n",
    "Rsquare"
   ]
  },
  {
   "cell_type": "code",
   "execution_count": 40,
   "metadata": {},
   "outputs": [
    {
     "data": {
      "text/plain": [
       "1184039182.0"
      ]
     },
     "execution_count": 40,
     "metadata": {},
     "output_type": "execute_result"
    }
   ],
   "source": [
    "pred_test  = ele_net.predict(pa_x_test)\n",
    "error_test =  pa_y_test  -  pred_test\n",
    "MSE_ele_net =   np.mean(np.square(error_test))\n",
    "MSE_ele_net  = np.round(MSE_ele_net)\n",
    "MSE_ele_net"
   ]
  },
  {
   "cell_type": "code",
   "execution_count": 41,
   "metadata": {},
   "outputs": [
    {
     "data": {
      "text/plain": [
       "10.74590487262048"
      ]
     },
     "execution_count": 41,
     "metadata": {},
     "output_type": "execute_result"
    }
   ],
   "source": [
    "\n",
    "MAPE_ele_net  = np.mean(np.abs(error_test)* 100  / pa_y_test )\n",
    "MAPE_ele_net "
   ]
  },
  {
   "cell_type": "markdown",
   "metadata": {},
   "source": [
    "# Decision Tree Regressor"
   ]
  },
  {
   "cell_type": "code",
   "execution_count": 42,
   "metadata": {},
   "outputs": [],
   "source": [
    "from sklearn.tree import DecisionTreeRegressor\n",
    "dt_reg = DecisionTreeRegressor()"
   ]
  },
  {
   "cell_type": "code",
   "execution_count": 43,
   "metadata": {},
   "outputs": [
    {
     "data": {
      "text/plain": [
       "DecisionTreeRegressor(criterion='mse', max_depth=None, max_features=None,\n",
       "           max_leaf_nodes=None, min_impurity_decrease=0.0,\n",
       "           min_impurity_split=None, min_samples_leaf=1,\n",
       "           min_samples_split=2, min_weight_fraction_leaf=0.0,\n",
       "           presort=False, random_state=None, splitter='best')"
      ]
     },
     "execution_count": 43,
     "metadata": {},
     "output_type": "execute_result"
    }
   ],
   "source": [
    "dt_reg.fit(pa_x_train , pa_y_train)"
   ]
  },
  {
   "cell_type": "code",
   "execution_count": 44,
   "metadata": {},
   "outputs": [
    {
     "data": {
      "text/plain": [
       "1.0"
      ]
     },
     "execution_count": 44,
     "metadata": {},
     "output_type": "execute_result"
    }
   ],
   "source": [
    "dt_reg.score(pa_x_train , pa_y_train)"
   ]
  },
  {
   "cell_type": "code",
   "execution_count": 45,
   "metadata": {},
   "outputs": [],
   "source": [
    "pred_train  = dt_reg.predict(pa_x_train )"
   ]
  },
  {
   "cell_type": "code",
   "execution_count": 46,
   "metadata": {},
   "outputs": [],
   "source": [
    "pred_test  = dt_reg.predict(pa_x_test)"
   ]
  },
  {
   "cell_type": "code",
   "execution_count": 47,
   "metadata": {},
   "outputs": [
    {
     "data": {
      "text/plain": [
       "1458413348.0"
      ]
     },
     "execution_count": 47,
     "metadata": {},
     "output_type": "execute_result"
    }
   ],
   "source": [
    "\n",
    "pred_test  = dt_reg.predict(pa_x_test)\n",
    "error_test =  pa_y_test  -  pred_test\n",
    "MSE_DT =   np.mean(np.square(error_test))\n",
    "MSE_DT  =np.round(MSE_DT)\n",
    "MSE_DT"
   ]
  },
  {
   "cell_type": "code",
   "execution_count": 48,
   "metadata": {},
   "outputs": [
    {
     "data": {
      "text/plain": [
       "14.534493679645973"
      ]
     },
     "execution_count": 48,
     "metadata": {},
     "output_type": "execute_result"
    }
   ],
   "source": [
    "\n",
    "MAPE_DT  = np.mean(np.abs(error_test)* 100  / pa_y_test )\n",
    "MAPE_DT "
   ]
  },
  {
   "cell_type": "markdown",
   "metadata": {},
   "source": [
    "# RANDOME FOREST CLASSIFIER"
   ]
  },
  {
   "cell_type": "code",
   "execution_count": 49,
   "metadata": {},
   "outputs": [],
   "source": [
    "from sklearn.ensemble import RandomForestRegressor\n",
    "rf_reg = RandomForestRegressor()"
   ]
  },
  {
   "cell_type": "code",
   "execution_count": 50,
   "metadata": {},
   "outputs": [
    {
     "name": "stderr",
     "output_type": "stream",
     "text": [
      "F:\\pranjal\\Python_anaconda\\envs\\py35\\lib\\site-packages\\sklearn\\ensemble\\forest.py:248: FutureWarning: The default value of n_estimators will change from 10 in version 0.20 to 100 in 0.22.\n",
      "  \"10 in version 0.20 to 100 in 0.22.\", FutureWarning)\n"
     ]
    },
    {
     "data": {
      "text/plain": [
       "RandomForestRegressor(bootstrap=True, criterion='mse', max_depth=None,\n",
       "           max_features='auto', max_leaf_nodes=None,\n",
       "           min_impurity_decrease=0.0, min_impurity_split=None,\n",
       "           min_samples_leaf=1, min_samples_split=2,\n",
       "           min_weight_fraction_leaf=0.0, n_estimators=10, n_jobs=None,\n",
       "           oob_score=False, random_state=None, verbose=0, warm_start=False)"
      ]
     },
     "execution_count": 50,
     "metadata": {},
     "output_type": "execute_result"
    }
   ],
   "source": [
    "rf_reg.fit(pa_x_train , pa_y_train)"
   ]
  },
  {
   "cell_type": "code",
   "execution_count": 51,
   "metadata": {},
   "outputs": [
    {
     "data": {
      "text/plain": [
       "0.9753687567079543"
      ]
     },
     "execution_count": 51,
     "metadata": {},
     "output_type": "execute_result"
    }
   ],
   "source": [
    "rf_reg.score(pa_x_train , pa_y_train)"
   ]
  },
  {
   "cell_type": "code",
   "execution_count": 52,
   "metadata": {},
   "outputs": [
    {
     "data": {
      "text/plain": [
       "1215041328.0"
      ]
     },
     "execution_count": 52,
     "metadata": {},
     "output_type": "execute_result"
    }
   ],
   "source": [
    "\n",
    "pred_test  = rf_reg.predict(pa_x_test)\n",
    "error_test =  pa_y_test  -  pred_test\n",
    "MSE_RF =   np.mean(np.square(error_test))\n",
    "MSE_RF  = np.round(MSE_RF)\n",
    "MSE_RF"
   ]
  },
  {
   "cell_type": "code",
   "execution_count": 53,
   "metadata": {},
   "outputs": [
    {
     "data": {
      "text/plain": [
       "11.344023285643244"
      ]
     },
     "execution_count": 53,
     "metadata": {},
     "output_type": "execute_result"
    }
   ],
   "source": [
    "\n",
    "MAPE_RF   = np.mean(np.abs(error_test)* 100  / pa_y_test )\n",
    "MAPE_RF "
   ]
  },
  {
   "cell_type": "markdown",
   "metadata": {},
   "source": [
    "# EXTRA TREE REGRESSOR"
   ]
  },
  {
   "cell_type": "code",
   "execution_count": 83,
   "metadata": {},
   "outputs": [],
   "source": [
    "from sklearn.ensemble import ExtraTreesRegressor\n",
    "etc_reg = ExtraTreesRegressor()"
   ]
  },
  {
   "cell_type": "code",
   "execution_count": 84,
   "metadata": {},
   "outputs": [
    {
     "name": "stderr",
     "output_type": "stream",
     "text": [
      "F:\\pranjal\\Python_anaconda\\envs\\py35\\lib\\site-packages\\sklearn\\ensemble\\forest.py:248: FutureWarning: The default value of n_estimators will change from 10 in version 0.20 to 100 in 0.22.\n",
      "  \"10 in version 0.20 to 100 in 0.22.\", FutureWarning)\n"
     ]
    },
    {
     "data": {
      "text/plain": [
       "ExtraTreesRegressor(bootstrap=False, criterion='mse', max_depth=None,\n",
       "          max_features='auto', max_leaf_nodes=None,\n",
       "          min_impurity_decrease=0.0, min_impurity_split=None,\n",
       "          min_samples_leaf=1, min_samples_split=2,\n",
       "          min_weight_fraction_leaf=0.0, n_estimators=10, n_jobs=None,\n",
       "          oob_score=False, random_state=None, verbose=0, warm_start=False)"
      ]
     },
     "execution_count": 84,
     "metadata": {},
     "output_type": "execute_result"
    }
   ],
   "source": [
    "etc_reg.fit(pa_x_train , pa_y_train)"
   ]
  },
  {
   "cell_type": "code",
   "execution_count": 85,
   "metadata": {},
   "outputs": [
    {
     "data": {
      "text/plain": [
       "1.0"
      ]
     },
     "execution_count": 85,
     "metadata": {},
     "output_type": "execute_result"
    }
   ],
   "source": [
    "etc_reg.score(pa_x_train , pa_y_train)"
   ]
  },
  {
   "cell_type": "code",
   "execution_count": 87,
   "metadata": {},
   "outputs": [
    {
     "data": {
      "text/plain": [
       "1266236289.0"
      ]
     },
     "execution_count": 87,
     "metadata": {},
     "output_type": "execute_result"
    }
   ],
   "source": [
    "pred_test  = etc_reg.predict(pa_x_test)\n",
    "error_test =  pa_y_test  -  pred_test\n",
    "MSE_etc =   np.mean(np.square(error_test))\n",
    "MSE_etc  = np.round(MSE_etc)\n",
    "MSE_etc"
   ]
  },
  {
   "cell_type": "code",
   "execution_count": 88,
   "metadata": {},
   "outputs": [
    {
     "data": {
      "text/plain": [
       "10.902110182271533"
      ]
     },
     "execution_count": 88,
     "metadata": {},
     "output_type": "execute_result"
    }
   ],
   "source": [
    "\n",
    "MAPE_etc   = np.mean(np.abs(error_test)* 100  / pa_y_test )\n",
    "MAPE_etc"
   ]
  },
  {
   "cell_type": "markdown",
   "metadata": {},
   "source": [
    "# ADABOOST CLASSIFIER"
   ]
  },
  {
   "cell_type": "code",
   "execution_count": 54,
   "metadata": {},
   "outputs": [],
   "source": [
    "from sklearn.ensemble import AdaBoostRegressor\n",
    "\n",
    "ad_reg  = AdaBoostRegressor()"
   ]
  },
  {
   "cell_type": "code",
   "execution_count": 55,
   "metadata": {},
   "outputs": [
    {
     "data": {
      "text/plain": [
       "AdaBoostRegressor(base_estimator=None, learning_rate=1.0, loss='linear',\n",
       "         n_estimators=50, random_state=None)"
      ]
     },
     "execution_count": 55,
     "metadata": {},
     "output_type": "execute_result"
    }
   ],
   "source": [
    "ad_reg.fit(pa_x_train , pa_y_train)"
   ]
  },
  {
   "cell_type": "code",
   "execution_count": 56,
   "metadata": {},
   "outputs": [
    {
     "data": {
      "text/plain": [
       "0.8866781688643458"
      ]
     },
     "execution_count": 56,
     "metadata": {},
     "output_type": "execute_result"
    }
   ],
   "source": [
    "ad_reg.score(pa_x_train , pa_y_train)"
   ]
  },
  {
   "cell_type": "code",
   "execution_count": 57,
   "metadata": {},
   "outputs": [
    {
     "data": {
      "text/plain": [
       "1144489185.0"
      ]
     },
     "execution_count": 57,
     "metadata": {},
     "output_type": "execute_result"
    }
   ],
   "source": [
    "pred_test  = ad_reg.predict(pa_x_test)\n",
    "error_test =  pa_y_test  -  pred_test\n",
    "MSE_adaboost =   np.mean(np.square(error_test))\n",
    "MSE_adaboost  = np.round(MSE_adaboost)\n",
    "MSE_adaboost"
   ]
  },
  {
   "cell_type": "code",
   "execution_count": 58,
   "metadata": {},
   "outputs": [
    {
     "data": {
      "text/plain": [
       "14.469457795173945"
      ]
     },
     "execution_count": 58,
     "metadata": {},
     "output_type": "execute_result"
    }
   ],
   "source": [
    "\n",
    "MAPE_adaboost  = np.mean(np.abs(error_test)* 100  / pa_y_test )\n",
    "MAPE_adaboost"
   ]
  },
  {
   "cell_type": "markdown",
   "metadata": {},
   "source": [
    "# SVM CLASSIFIER"
   ]
  },
  {
   "cell_type": "code",
   "execution_count": 59,
   "metadata": {},
   "outputs": [],
   "source": [
    "from sklearn.svm  import LinearSVR"
   ]
  },
  {
   "cell_type": "code",
   "execution_count": 60,
   "metadata": {},
   "outputs": [],
   "source": [
    "svm_reg =  LinearSVR()"
   ]
  },
  {
   "cell_type": "code",
   "execution_count": 61,
   "metadata": {},
   "outputs": [
    {
     "name": "stderr",
     "output_type": "stream",
     "text": [
      "F:\\pranjal\\Python_anaconda\\envs\\py35\\lib\\site-packages\\sklearn\\svm\\base.py:922: ConvergenceWarning: Liblinear failed to converge, increase the number of iterations.\n",
      "  \"the number of iterations.\", ConvergenceWarning)\n"
     ]
    },
    {
     "data": {
      "text/plain": [
       "LinearSVR(C=1.0, dual=True, epsilon=0.0, fit_intercept=True,\n",
       "     intercept_scaling=1.0, loss='epsilon_insensitive', max_iter=1000,\n",
       "     random_state=None, tol=0.0001, verbose=0)"
      ]
     },
     "execution_count": 61,
     "metadata": {},
     "output_type": "execute_result"
    }
   ],
   "source": [
    "svm_reg.fit(pa_x_train , pa_y_train)"
   ]
  },
  {
   "cell_type": "code",
   "execution_count": 62,
   "metadata": {},
   "outputs": [
    {
     "data": {
      "text/plain": [
       "0.5339164627339117"
      ]
     },
     "execution_count": 62,
     "metadata": {},
     "output_type": "execute_result"
    }
   ],
   "source": [
    "svm_reg.score(pa_x_train , pa_y_train)"
   ]
  },
  {
   "cell_type": "code",
   "execution_count": 63,
   "metadata": {},
   "outputs": [
    {
     "data": {
      "text/plain": [
       "2787419849.0"
      ]
     },
     "execution_count": 63,
     "metadata": {},
     "output_type": "execute_result"
    }
   ],
   "source": [
    "pred_test  = svm_reg.predict(pa_x_test)\n",
    "error_test =  pa_y_test  -  pred_test\n",
    "MSE_SVM =   np.mean(np.square(error_test))\n",
    "MSE_SVM = np.round(MSE_SVM)\n",
    "MSE_SVM"
   ]
  },
  {
   "cell_type": "code",
   "execution_count": 64,
   "metadata": {},
   "outputs": [
    {
     "data": {
      "text/plain": [
       "20.85300910290829"
      ]
     },
     "execution_count": 64,
     "metadata": {},
     "output_type": "execute_result"
    }
   ],
   "source": [
    "\n",
    "MAPE_SVM  = np.mean(np.abs(error_test)* 100  / pa_y_test )\n",
    "MAPE_SVM "
   ]
  },
  {
   "cell_type": "markdown",
   "metadata": {},
   "source": [
    "# KNN REGRESOR"
   ]
  },
  {
   "cell_type": "code",
   "execution_count": 65,
   "metadata": {},
   "outputs": [],
   "source": [
    "from sklearn.neighbors  import KNeighborsRegressor\n",
    "knn_reg =KNeighborsRegressor(n_neighbors= 10)"
   ]
  },
  {
   "cell_type": "code",
   "execution_count": 66,
   "metadata": {},
   "outputs": [
    {
     "data": {
      "text/plain": [
       "KNeighborsRegressor(algorithm='auto', leaf_size=30, metric='minkowski',\n",
       "          metric_params=None, n_jobs=None, n_neighbors=10, p=2,\n",
       "          weights='uniform')"
      ]
     },
     "execution_count": 66,
     "metadata": {},
     "output_type": "execute_result"
    }
   ],
   "source": [
    "knn_reg.fit(pa_x_train , pa_y_train)"
   ]
  },
  {
   "cell_type": "code",
   "execution_count": 67,
   "metadata": {},
   "outputs": [
    {
     "data": {
      "text/plain": [
       "0.6926230769181566"
      ]
     },
     "execution_count": 67,
     "metadata": {},
     "output_type": "execute_result"
    }
   ],
   "source": [
    "knn_reg.score(pa_x_train , pa_y_train)"
   ]
  },
  {
   "cell_type": "code",
   "execution_count": 68,
   "metadata": {},
   "outputs": [
    {
     "data": {
      "text/plain": [
       "1889070345.0"
      ]
     },
     "execution_count": 68,
     "metadata": {},
     "output_type": "execute_result"
    }
   ],
   "source": [
    "pred_test  = knn_reg.predict(pa_x_test)\n",
    "error_test =  pa_y_test  -  pred_test\n",
    "MSE_KNN =   np.mean(np.square(error_test))\n",
    "MSE_KNN = np.round(MSE_KNN )\n",
    "MSE_KNN "
   ]
  },
  {
   "cell_type": "code",
   "execution_count": 69,
   "metadata": {
    "scrolled": true
   },
   "outputs": [
    {
     "data": {
      "text/plain": [
       "17.544498346138575"
      ]
     },
     "execution_count": 69,
     "metadata": {},
     "output_type": "execute_result"
    }
   ],
   "source": [
    "\n",
    "MAPE_KNN  = np.mean(np.abs(error_test)* 100  / pa_y_test )\n",
    "MAPE_KNN"
   ]
  },
  {
   "cell_type": "markdown",
   "metadata": {},
   "source": [
    "# Grdient Boosting"
   ]
  },
  {
   "cell_type": "code",
   "execution_count": 70,
   "metadata": {},
   "outputs": [],
   "source": [
    "from sklearn.ensemble import GradientBoostingRegressor\n",
    "\n",
    "gbr  =  GradientBoostingRegressor()"
   ]
  },
  {
   "cell_type": "code",
   "execution_count": 71,
   "metadata": {},
   "outputs": [
    {
     "data": {
      "text/plain": [
       "GradientBoostingRegressor(alpha=0.9, criterion='friedman_mse', init=None,\n",
       "             learning_rate=0.1, loss='ls', max_depth=3, max_features=None,\n",
       "             max_leaf_nodes=None, min_impurity_decrease=0.0,\n",
       "             min_impurity_split=None, min_samples_leaf=1,\n",
       "             min_samples_split=2, min_weight_fraction_leaf=0.0,\n",
       "             n_estimators=100, n_iter_no_change=None, presort='auto',\n",
       "             random_state=None, subsample=1.0, tol=0.0001,\n",
       "             validation_fraction=0.1, verbose=0, warm_start=False)"
      ]
     },
     "execution_count": 71,
     "metadata": {},
     "output_type": "execute_result"
    }
   ],
   "source": [
    "gbr.fit(pa_x_train , pa_y_train)"
   ]
  },
  {
   "cell_type": "code",
   "execution_count": 72,
   "metadata": {},
   "outputs": [
    {
     "data": {
      "text/plain": [
       "0.9683753729274776"
      ]
     },
     "execution_count": 72,
     "metadata": {},
     "output_type": "execute_result"
    }
   ],
   "source": [
    "gbr.score(pa_x_train , pa_y_train)"
   ]
  },
  {
   "cell_type": "code",
   "execution_count": 73,
   "metadata": {},
   "outputs": [
    {
     "data": {
      "text/plain": [
       "843345002.0"
      ]
     },
     "execution_count": 73,
     "metadata": {},
     "output_type": "execute_result"
    }
   ],
   "source": [
    "pred_test  = gbr.predict(pa_x_test)\n",
    "error_test =  pa_y_test  -  pred_test\n",
    "MSE_gbr =   np.mean(np.square(error_test))\n",
    "MSE_gbr = np.round(MSE_gbr)\n",
    "MSE_gbr "
   ]
  },
  {
   "cell_type": "code",
   "execution_count": 74,
   "metadata": {},
   "outputs": [
    {
     "data": {
      "text/plain": [
       "9.11539859323352"
      ]
     },
     "execution_count": 74,
     "metadata": {},
     "output_type": "execute_result"
    }
   ],
   "source": [
    "MAPE_gbr  = np.mean(np.abs(error_test)* 100  / pa_y_test )\n",
    "MAPE_gbr"
   ]
  },
  {
   "cell_type": "markdown",
   "metadata": {},
   "source": [
    "# Regression using extreme gradient boosting"
   ]
  },
  {
   "cell_type": "code",
   "execution_count": 1,
   "metadata": {},
   "outputs": [],
   "source": [
    "from xgboost import XGBRFRegressor"
   ]
  },
  {
   "cell_type": "code",
   "execution_count": 2,
   "metadata": {},
   "outputs": [],
   "source": [
    "from xgboost import XGBClassifier"
   ]
  },
  {
   "cell_type": "code",
   "execution_count": 76,
   "metadata": {},
   "outputs": [],
   "source": [
    "xgbrfReg = XGBRFRegressor()"
   ]
  },
  {
   "cell_type": "code",
   "execution_count": 77,
   "metadata": {},
   "outputs": [
    {
     "data": {
      "text/plain": [
       "XGBRFRegressor(base_score=0.5, booster='gbtree', colsample_bylevel=1,\n",
       "        colsample_bynode=0.8, colsample_bytree=1, gamma=0, gpu_id=-1,\n",
       "        importance_type='gain', interaction_constraints='',\n",
       "        learning_rate=1, max_delta_step=0, max_depth=6, min_child_weight=1,\n",
       "        missing=nan, monotone_constraints='()', n_estimators=100, n_jobs=0,\n",
       "        num_parallel_tree=100, objective='reg:squarederror',\n",
       "        random_state=0, reg_alpha=0, reg_lambda=1e-05, scale_pos_weight=1,\n",
       "        subsample=0.8, tree_method='exact', validate_parameters=1,\n",
       "        verbosity=None)"
      ]
     },
     "execution_count": 77,
     "metadata": {},
     "output_type": "execute_result"
    }
   ],
   "source": [
    "xgbrfReg.fit(pa_x_train , pa_y_train)"
   ]
  },
  {
   "cell_type": "code",
   "execution_count": 78,
   "metadata": {},
   "outputs": [
    {
     "data": {
      "text/plain": [
       "0.94679595525163"
      ]
     },
     "execution_count": 78,
     "metadata": {},
     "output_type": "execute_result"
    }
   ],
   "source": [
    "xgbrfReg.score(pa_x_train , pa_y_train)"
   ]
  },
  {
   "cell_type": "code",
   "execution_count": 79,
   "metadata": {},
   "outputs": [
    {
     "data": {
      "text/plain": [
       "979118301.0"
      ]
     },
     "execution_count": 79,
     "metadata": {},
     "output_type": "execute_result"
    }
   ],
   "source": [
    "pred_test  = xgbrfReg.predict(pa_x_test)\n",
    "error_test =  pa_y_test  -  pred_test\n",
    "MSE_xgbrfReg =   np.mean(np.square(error_test))\n",
    "MSE_xgbrfReg = np.round(MSE_xgbrfReg)\n",
    "MSE_xgbrfReg"
   ]
  },
  {
   "cell_type": "code",
   "execution_count": 80,
   "metadata": {},
   "outputs": [
    {
     "data": {
      "text/plain": [
       "11.461214672654584"
      ]
     },
     "execution_count": 80,
     "metadata": {},
     "output_type": "execute_result"
    }
   ],
   "source": [
    "MAPE_xgbrfReg  = np.mean(np.abs(error_test)* 100  / pa_y_test )\n",
    "MAPE_xgbrfReg "
   ]
  },
  {
   "cell_type": "code",
   "execution_count": 91,
   "metadata": {},
   "outputs": [],
   "source": [
    "Model_Metrics = pd.DataFrame({'Algorithms' : (\"Linear\" , \"Lasso\" , \"Ridge\" ,\"elasticNet\"\n",
    "                                              ,\"DT\" ,\"RF\" ,'KNN' , 'SVM' , \n",
    "                                              'Extra_Tree_Classifier', 'AdaBoost' , 'GradBoost' , 'XGB'),\n",
    "                                            \n",
    "                              \"MSE\"    : (MSE_Linear , MSE_Lasso  , MSE_Ridge , MSE_ele_net , \n",
    "                                          MSE_DT , MSE_RF , MSE_KNN , MSE_SVM , \n",
    "                                          MSE_etc, MSE_adaboost , MSE_gbr ,MSE_xgbrfReg) ,\n",
    "                                          \n",
    "                              \n",
    "                              'MAPE'   : (MAPE_Linear , MAPE_Lasso , MAPE_Ridge ,MAPE_ele_net, \n",
    "                                          MAPE_DT , MAPE_RF , MAPE_KNN ,MAPE_SVM ,\n",
    "                                          MAPE_etc , MAPE_adaboost ,  \n",
    "                                          MAPE_gbr, MAPE_xgbrfReg )} )"
   ]
  },
  {
   "cell_type": "code",
   "execution_count": 94,
   "metadata": {},
   "outputs": [
    {
     "data": {
      "text/html": [
       "<div>\n",
       "<style scoped>\n",
       "    .dataframe tbody tr th:only-of-type {\n",
       "        vertical-align: middle;\n",
       "    }\n",
       "\n",
       "    .dataframe tbody tr th {\n",
       "        vertical-align: top;\n",
       "    }\n",
       "\n",
       "    .dataframe thead th {\n",
       "        text-align: right;\n",
       "    }\n",
       "</style>\n",
       "<table border=\"1\" class=\"dataframe\">\n",
       "  <thead>\n",
       "    <tr style=\"text-align: right;\">\n",
       "      <th></th>\n",
       "      <th>Algorithms</th>\n",
       "      <th>MAPE</th>\n",
       "      <th>MSE</th>\n",
       "    </tr>\n",
       "  </thead>\n",
       "  <tbody>\n",
       "    <tr>\n",
       "      <th>10</th>\n",
       "      <td>GradBoost</td>\n",
       "      <td>9.115399</td>\n",
       "      <td>8.433450e+08</td>\n",
       "    </tr>\n",
       "    <tr>\n",
       "      <th>3</th>\n",
       "      <td>elasticNet</td>\n",
       "      <td>10.745905</td>\n",
       "      <td>1.184039e+09</td>\n",
       "    </tr>\n",
       "    <tr>\n",
       "      <th>8</th>\n",
       "      <td>Extra_Tree_Classifier</td>\n",
       "      <td>10.902110</td>\n",
       "      <td>1.266236e+09</td>\n",
       "    </tr>\n",
       "    <tr>\n",
       "      <th>2</th>\n",
       "      <td>Ridge</td>\n",
       "      <td>10.957287</td>\n",
       "      <td>1.148548e+09</td>\n",
       "    </tr>\n",
       "    <tr>\n",
       "      <th>1</th>\n",
       "      <td>Lasso</td>\n",
       "      <td>11.008889</td>\n",
       "      <td>1.155884e+09</td>\n",
       "    </tr>\n",
       "    <tr>\n",
       "      <th>0</th>\n",
       "      <td>Linear</td>\n",
       "      <td>11.011658</td>\n",
       "      <td>1.156102e+09</td>\n",
       "    </tr>\n",
       "    <tr>\n",
       "      <th>5</th>\n",
       "      <td>RF</td>\n",
       "      <td>11.344023</td>\n",
       "      <td>1.215041e+09</td>\n",
       "    </tr>\n",
       "    <tr>\n",
       "      <th>11</th>\n",
       "      <td>XGB</td>\n",
       "      <td>11.461215</td>\n",
       "      <td>9.791183e+08</td>\n",
       "    </tr>\n",
       "    <tr>\n",
       "      <th>9</th>\n",
       "      <td>AdaBoost</td>\n",
       "      <td>14.469458</td>\n",
       "      <td>1.144489e+09</td>\n",
       "    </tr>\n",
       "    <tr>\n",
       "      <th>4</th>\n",
       "      <td>DT</td>\n",
       "      <td>14.534494</td>\n",
       "      <td>1.458413e+09</td>\n",
       "    </tr>\n",
       "    <tr>\n",
       "      <th>6</th>\n",
       "      <td>KNN</td>\n",
       "      <td>17.544498</td>\n",
       "      <td>1.889070e+09</td>\n",
       "    </tr>\n",
       "    <tr>\n",
       "      <th>7</th>\n",
       "      <td>SVM</td>\n",
       "      <td>20.853009</td>\n",
       "      <td>2.787420e+09</td>\n",
       "    </tr>\n",
       "  </tbody>\n",
       "</table>\n",
       "</div>"
      ],
      "text/plain": [
       "               Algorithms       MAPE           MSE\n",
       "10              GradBoost   9.115399  8.433450e+08\n",
       "3              elasticNet  10.745905  1.184039e+09\n",
       "8   Extra_Tree_Classifier  10.902110  1.266236e+09\n",
       "2                   Ridge  10.957287  1.148548e+09\n",
       "1                   Lasso  11.008889  1.155884e+09\n",
       "0                  Linear  11.011658  1.156102e+09\n",
       "5                      RF  11.344023  1.215041e+09\n",
       "11                    XGB  11.461215  9.791183e+08\n",
       "9                AdaBoost  14.469458  1.144489e+09\n",
       "4                      DT  14.534494  1.458413e+09\n",
       "6                     KNN  17.544498  1.889070e+09\n",
       "7                     SVM  20.853009  2.787420e+09"
      ]
     },
     "execution_count": 94,
     "metadata": {},
     "output_type": "execute_result"
    }
   ],
   "source": [
    "Model_Metrics.sort_values('MAPE',ascending= True)"
   ]
  },
  {
   "cell_type": "code",
   "execution_count": null,
   "metadata": {},
   "outputs": [],
   "source": []
  },
  {
   "cell_type": "code",
   "execution_count": 12,
   "metadata": {},
   "outputs": [],
   "source": [
    "mtcars  = pd.read_csv(r\"C:\\Users\\Pranjal Mishra\\Documents\\Mtcars.csv\")"
   ]
  },
  {
   "cell_type": "code",
   "execution_count": 13,
   "metadata": {},
   "outputs": [
    {
     "data": {
      "text/html": [
       "<div>\n",
       "<style scoped>\n",
       "    .dataframe tbody tr th:only-of-type {\n",
       "        vertical-align: middle;\n",
       "    }\n",
       "\n",
       "    .dataframe tbody tr th {\n",
       "        vertical-align: top;\n",
       "    }\n",
       "\n",
       "    .dataframe thead th {\n",
       "        text-align: right;\n",
       "    }\n",
       "</style>\n",
       "<table border=\"1\" class=\"dataframe\">\n",
       "  <thead>\n",
       "    <tr style=\"text-align: right;\">\n",
       "      <th></th>\n",
       "      <th>mpg</th>\n",
       "      <th>cyl</th>\n",
       "      <th>disp</th>\n",
       "      <th>hp</th>\n",
       "      <th>drat</th>\n",
       "      <th>wt</th>\n",
       "      <th>qsec</th>\n",
       "      <th>vs</th>\n",
       "      <th>am</th>\n",
       "      <th>gear</th>\n",
       "      <th>carb</th>\n",
       "    </tr>\n",
       "  </thead>\n",
       "  <tbody>\n",
       "    <tr>\n",
       "      <th>0</th>\n",
       "      <td>21.0</td>\n",
       "      <td>6</td>\n",
       "      <td>160.0</td>\n",
       "      <td>110</td>\n",
       "      <td>3.90</td>\n",
       "      <td>2.620</td>\n",
       "      <td>16.46</td>\n",
       "      <td>0</td>\n",
       "      <td>1</td>\n",
       "      <td>4</td>\n",
       "      <td>4</td>\n",
       "    </tr>\n",
       "    <tr>\n",
       "      <th>1</th>\n",
       "      <td>21.0</td>\n",
       "      <td>6</td>\n",
       "      <td>160.0</td>\n",
       "      <td>110</td>\n",
       "      <td>3.90</td>\n",
       "      <td>2.875</td>\n",
       "      <td>17.02</td>\n",
       "      <td>0</td>\n",
       "      <td>1</td>\n",
       "      <td>4</td>\n",
       "      <td>4</td>\n",
       "    </tr>\n",
       "    <tr>\n",
       "      <th>2</th>\n",
       "      <td>22.8</td>\n",
       "      <td>4</td>\n",
       "      <td>108.0</td>\n",
       "      <td>93</td>\n",
       "      <td>3.85</td>\n",
       "      <td>2.320</td>\n",
       "      <td>18.61</td>\n",
       "      <td>1</td>\n",
       "      <td>1</td>\n",
       "      <td>4</td>\n",
       "      <td>1</td>\n",
       "    </tr>\n",
       "    <tr>\n",
       "      <th>3</th>\n",
       "      <td>21.4</td>\n",
       "      <td>6</td>\n",
       "      <td>258.0</td>\n",
       "      <td>110</td>\n",
       "      <td>3.08</td>\n",
       "      <td>3.215</td>\n",
       "      <td>19.44</td>\n",
       "      <td>1</td>\n",
       "      <td>0</td>\n",
       "      <td>3</td>\n",
       "      <td>1</td>\n",
       "    </tr>\n",
       "    <tr>\n",
       "      <th>4</th>\n",
       "      <td>18.7</td>\n",
       "      <td>8</td>\n",
       "      <td>360.0</td>\n",
       "      <td>175</td>\n",
       "      <td>3.15</td>\n",
       "      <td>3.440</td>\n",
       "      <td>17.02</td>\n",
       "      <td>0</td>\n",
       "      <td>0</td>\n",
       "      <td>3</td>\n",
       "      <td>2</td>\n",
       "    </tr>\n",
       "  </tbody>\n",
       "</table>\n",
       "</div>"
      ],
      "text/plain": [
       "    mpg  cyl   disp   hp  drat     wt   qsec  vs  am  gear  carb\n",
       "0  21.0    6  160.0  110  3.90  2.620  16.46   0   1     4     4\n",
       "1  21.0    6  160.0  110  3.90  2.875  17.02   0   1     4     4\n",
       "2  22.8    4  108.0   93  3.85  2.320  18.61   1   1     4     1\n",
       "3  21.4    6  258.0  110  3.08  3.215  19.44   1   0     3     1\n",
       "4  18.7    8  360.0  175  3.15  3.440  17.02   0   0     3     2"
      ]
     },
     "execution_count": 13,
     "metadata": {},
     "output_type": "execute_result"
    }
   ],
   "source": [
    "mtcars.head()"
   ]
  },
  {
   "cell_type": "code",
   "execution_count": 14,
   "metadata": {},
   "outputs": [],
   "source": [
    "from sklearn.linear_model import LinearRegression\n",
    "lm = LinearRegression()"
   ]
  },
  {
   "cell_type": "code",
   "execution_count": 17,
   "metadata": {},
   "outputs": [],
   "source": [
    "df1 =  mtcars.iloc[: , [1,3,5]]\n",
    "y = mtcars.mpg"
   ]
  },
  {
   "cell_type": "code",
   "execution_count": 18,
   "metadata": {},
   "outputs": [
    {
     "data": {
      "text/plain": [
       "LinearRegression(copy_X=True, fit_intercept=True, n_jobs=None,\n",
       "         normalize=False)"
      ]
     },
     "execution_count": 18,
     "metadata": {},
     "output_type": "execute_result"
    }
   ],
   "source": [
    "lm.fit(df1, y)"
   ]
  },
  {
   "cell_type": "code",
   "execution_count": 19,
   "metadata": {},
   "outputs": [
    {
     "data": {
      "text/plain": [
       "0.8431499832693987"
      ]
     },
     "execution_count": 19,
     "metadata": {},
     "output_type": "execute_result"
    }
   ],
   "source": [
    "lm.score(df1, y)"
   ]
  },
  {
   "cell_type": "code",
   "execution_count": 20,
   "metadata": {},
   "outputs": [
    {
     "data": {
      "text/plain": [
       "array([-0.94161681, -0.0180381 , -3.16697311])"
      ]
     },
     "execution_count": 20,
     "metadata": {},
     "output_type": "execute_result"
    }
   ],
   "source": [
    "lm.coef_"
   ]
  },
  {
   "cell_type": "code",
   "execution_count": null,
   "metadata": {},
   "outputs": [],
   "source": [
    "aic = 2 * k - 2ln(logloss)"
   ]
  },
  {
   "cell_type": "code",
   "execution_count": 28,
   "metadata": {},
   "outputs": [],
   "source": [
    "pred =  lm.predict(df1)\n",
    "error  = y - pred\n",
    "sse =  np.mean(error*error)"
   ]
  },
  {
   "cell_type": "code",
   "execution_count": 23,
   "metadata": {},
   "outputs": [],
   "source": [
    "import numpy as np"
   ]
  },
  {
   "cell_type": "code",
   "execution_count": 29,
   "metadata": {},
   "outputs": [
    {
     "data": {
      "text/plain": [
       "1.7082675745362266"
      ]
     },
     "execution_count": 29,
     "metadata": {},
     "output_type": "execute_result"
    }
   ],
   "source": [
    "np.log(sse)"
   ]
  },
  {
   "cell_type": "code",
   "execution_count": 2,
   "metadata": {},
   "outputs": [
    {
     "data": {
      "text/plain": [
       "29900.0"
      ]
     },
     "execution_count": 2,
     "metadata": {},
     "output_type": "execute_result"
    }
   ],
   "source": [
    "23000 * 1.30"
   ]
  },
  {
   "cell_type": "code",
   "execution_count": null,
   "metadata": {},
   "outputs": [],
   "source": []
  }
 ],
 "metadata": {
  "kernelspec": {
   "display_name": "Python 3",
   "language": "python",
   "name": "python3"
  },
  "language_info": {
   "codemirror_mode": {
    "name": "ipython",
    "version": 3
   },
   "file_extension": ".py",
   "mimetype": "text/x-python",
   "name": "python",
   "nbconvert_exporter": "python",
   "pygments_lexer": "ipython3",
   "version": "3.8.8"
  }
 },
 "nbformat": 4,
 "nbformat_minor": 2
}
